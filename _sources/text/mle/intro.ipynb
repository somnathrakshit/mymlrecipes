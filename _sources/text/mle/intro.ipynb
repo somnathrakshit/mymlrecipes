{
 "cells": [
  {
   "cell_type": "markdown",
   "metadata": {},
   "source": [
    "# Maximum Likelihood Estimate\n",
    "\n",
    "Suppose we are given a problem where we can assume the _parametric class_ of distribution (e.g. Normal Distribution) that generates a set of data, and we want to determine the most likely parameters of this distribution using the given data. Since this class of distribution has a finite number of parameters (e.g. mean $\\mu$ and standard deviation $\\sigma$, in case of normal distribution) that need to be figured out in order to identify the particular member of the class, we will use the given data to do so.\n",
    "\n",
    "The obtained parameter estimates will be called **Maximum Likelihood Estimates**.\n",
    "\n",
    "Let us consider a Random Variable $X$ to be normally distributed with some mean $\\mu$ and standard deviation $\\sigma$. We need to estimate $\\mu$ and $\\sigma$ using our samples which accurately represent the actual $X$ and not just the samples that we have drawn out."
   ]
  },
  {
   "cell_type": "markdown",
   "metadata": {},
   "source": [
    "## Estimating Parameters\n",
    "\n",
    "Let's have a look at the Probability Density Function (PDF) for the Normal Distribution and see what they mean.\n",
    "\n",
    "$$\n",
    "\\begin{equation}\n",
    "f(x; \\mu, \\sigma) = \\frac{e^{-(x - \\mu)^{2}/(2\\sigma^{2}) }} {\\sigma\\sqrt{2\\pi}}\n",
    "\\end{equation}\n",
    "$$ (eq_normal_dist)\n",
    "\n",
    "This equation is used to obtain the probability of our sample $x$ being from our random variable $X$, when the true parameters of the distribution are $\\mu$ and $\\sigma$. Normal distributions with different $\\mu$ and $\\sigma$ are shown below."
   ]
  },
  {
   "cell_type": "code",
   "execution_count": null,
   "metadata": {
    "tags": [
     "hide-input"
    ]
   },
   "outputs": [],
   "source": [
    "import numpy as np\n",
    "import matplotlib.pyplot as plt\n",
    "from scipy.stats import norm\n",
    "np.random.seed(10)\n",
    "\n",
    "plt.style.use('seaborn')\n",
    "plt.rcParams['figure.figsize'] = (12, 8)\n",
    "\n",
    "def plot_normal(x_range, mu=0, sigma=1, **kwargs):\n",
    "    '''\n",
    "    https://emredjan.github.io/blog/2017/07/19/plotting-distributions/\n",
    "    '''\n",
    "    x = x_range\n",
    "    y = norm.pdf(x, mu, sigma)\n",
    "    plt.plot(x, y, **kwargs)\n",
    "    \n",
    "mus = np.linspace(-6, 6, 6)\n",
    "sigmas = np.linspace(1, 3, 6)\n",
    "\n",
    "assert len(mus) == len(sigmas)\n",
    "x_range = np.linspace(-10, 10, 200)\n",
    "\n",
    "for mu, sigma in zip(mus, sigmas):\n",
    "    plot_normal(x_range, mu, sigma, label=f'$\\mu$ = {mu:.2f}, $\\sigma$ = {sigma:.2f}')\n",
    "plt.legend();"
   ]
  },
  {
   "cell_type": "markdown",
   "metadata": {},
   "source": [
    "Let us consider that our sample = 5. Then what is the probability that it comes from a normal distribution with $\\mu = 4$ and $\\sigma = 1$? To get this probability, we only need to plug in the values of $x, \\mu$ and $\\sigma$ in Equation {eq}`eq_normal_dist`. Scipy as a handy function [`norm.pdf()`](https://docs.scipy.org/doc/scipy/reference/generated/scipy.stats.norm.html) that we can use to obtain this easily."
   ]
  },
  {
   "cell_type": "code",
   "execution_count": null,
   "metadata": {},
   "outputs": [],
   "source": [
    "from scipy.stats import norm\n",
    "\n",
    "norm.pdf(5, 4, 1)"
   ]
  },
  {
   "cell_type": "markdown",
   "metadata": {},
   "source": [
    "What if our sample came from a different distribution with $\\mu = 3$ and $\\sigma = 2$?"
   ]
  },
  {
   "cell_type": "code",
   "execution_count": null,
   "metadata": {},
   "outputs": [],
   "source": [
    "norm.pdf(5, 3, 2)"
   ]
  },
  {
   "cell_type": "markdown",
   "metadata": {},
   "source": [
    "As we can see, the PDF equation {eq}`eq_normal_dist` shows us how likely our sample are from a distribution with certain parameters. Current results show that our sample is more likely to have come from the first distribution. But this with just a single sample. What if we had multiple samples and we wanted to estimate the parameters?"
   ]
  },
  {
   "cell_type": "markdown",
   "metadata": {},
   "source": [
    "Let us assume we have multiple samples from $X$ which we assume to have come from some normal distribution. Also, all the samples are mutually independent of one another. In this case, the we can get the total probability of observing all samples by multiplying the probabilities of observing each sample individually.\n",
    "\n",
    "E.g., The probability that both $7$ and $1$ are drawn from a normal distribution with $\\mu = 4$ and $\\sigma=2$ is equal to:"
   ]
  },
  {
   "cell_type": "code",
   "execution_count": null,
   "metadata": {},
   "outputs": [],
   "source": [
    "norm.pdf(7, 4, 2) * norm.pdf(1, 4, 2)"
   ]
  },
  {
   "cell_type": "markdown",
   "metadata": {},
   "source": [
    "## Likelihood of many samples\n"
   ]
  },
  {
   "cell_type": "code",
   "execution_count": null,
   "metadata": {
    "tags": [
     "remove-cell"
    ]
   },
   "outputs": [],
   "source": [
    "x_data = np.random.randint(-9, high=9, size=5)\n",
    "print(x_data)"
   ]
  },
  {
   "cell_type": "markdown",
   "metadata": {},
   "source": [
    "In maximum likelihood estimation (MLE), we specify a distribution of unknown parameters and then use our data to obtain the actual parameter values. In essence, MLE's aim is to find the set of parameters for the probability distribution that maximizes the likelihood of the data points. This can be formally expressed as:\n",
    "\n",
    "$$\n",
    "\\begin{equation}\n",
    "\\hat{\\mu}, \\hat{\\sigma} = \\operatorname*{argmax}_{\\mu, \\sigma} \\prod_{i=1}^n f(x_i)\n",
    "\\end{equation}\n",
    "$$ (eq_likelihood)\n",
    "\n",
    "However, it is difficult to optimize this product of probabilities because of long and messy calculations. Thus, we use log-likelihood which is the logarithm of the probability that the data point is observed. Formally Equation {eq}`eq_likelihood` can be re-written as,\n",
    "\n",
    "$$\n",
    "\\begin{equation}\n",
    "\\hat{\\mu}, \\hat{\\sigma} = \\operatorname*{argmax}_{\\mu, \\sigma}\\Sigma_{i=1}^n \\ln f(x_i)\n",
    "\\end{equation}\n",
    "$$ (eq_log_likelihood)\n",
    "\n",
    "This is because logarithmic function is a monotonically increasing function. Thus, taking the log of another function does not change the point where the original function peaks. There are two main advantages of using log-likelihood:\n",
    "1. The exponential terms in the probability density function are more manageable and easily optimizable.\n",
    "1. The product of all likelihoods become a sum of individual likelihoods which allows these individual components to be maximized rather than working with the product of $n$ probability density functions."
   ]
  },
  {
   "cell_type": "markdown",
   "metadata": {},
   "source": [
    "Now, let us find the maximum likelihood estimates using the log likelihood function.\n",
    "\n",
    "$$\n",
    "\\begin{align*}\n",
    "\\begin{split}\n",
    "& \\ln\\left[ L(\\mu, \\sigma|x_1, ..., x_n)\\right] \\\\ \n",
    " &= \\ln \\left( \\frac{e^{-(x_1 - \\mu)^{2}/(2\\sigma^{2}) }} {\\sigma\\sqrt{2\\pi}} \\times  \\frac{e^{-(x_2 - \\mu)^{2}/(2\\sigma^{2}) }} {\\sigma\\sqrt{2\\pi}} \\times ... \\times  \\frac{e^{-(x_n - \\mu)^{2}/(2\\sigma^{2}) }} {\\sigma\\sqrt{2\\pi}}  \\right) \\\\ \n",
    " &= \\ln\\left( \\frac{e^{-(x_1 - \\mu)^{2}/(2\\sigma^{2}) }} {\\sigma\\sqrt{2\\pi}} \\right) + \\ln\\left( \\frac{e^{-(x_2 - \\mu)^{2}/(2\\sigma^{2}) }} {\\sigma\\sqrt{2\\pi}} \\right) + ... \\\\ \n",
    " &\\quad + \\ln\\left( \\frac{e^{-(x_n - \\mu)^{2}/(2\\sigma^{2}) }} {\\sigma\\sqrt{2\\pi}} \\right)\n",
    "\\end{split}\n",
    "\\end{align*} \n",
    "$$ (eq_mle_all_terms)\n",
    "\n",
    "Here,\n",
    "\n",
    "$$\n",
    "\\begin{align*}\n",
    "&\\ln\\left( \\frac{e^{-(x_1 - \\mu)^{2}/(2\\sigma^{2}) }} {\\sigma\\sqrt{2\\pi}} \\right) \\\\ \n",
    "&= \\ln\\left( \\frac{1} {\\sigma\\sqrt{2\\pi}} \\right) + \\ln\\left( e^{-(x_1 - \\mu)^{2}/(2\\sigma^{2}) } \\right) \\\\ \n",
    "&= \\ln\\left[ (2\\pi\\sigma^2)^{\\frac{-1}{2}} \\right] - \\frac{(x_1 - \\mu)^2}{2\\sigma^2}\\ln(e) \\\\\n",
    "&= -\\frac{1}{2}\\ln ( 2\\pi\\sigma^2) - \\frac{(x_1-\\mu)^2}{2\\sigma^2} \\\\\n",
    "&= -\\frac{1}{2}\\ln(2\\pi) - \\frac{1}{2}\\ln(\\sigma^2) - \\frac{(x_1 - \\mu)^2}{2\\sigma^2} \\\\\n",
    "\\end{align*} \n",
    "$$\n",
    "$$\n",
    "\\begin{align*}\n",
    "&= -\\frac{1}{2}\\ln(2\\pi) - \\ln(\\sigma) - \\frac{(x_1 - \\mu)^2}{2\\sigma^2} \\\\\n",
    "\\end{align*}\n",
    "$$ (eq_mle_single_term)\n",
    "\n",
    "Thus, Equation {eq}`eq_mle_all_terms` can be written as:\n",
    "\n",
    "$$\n",
    "\\begin{align*}\n",
    "\\ln\\left[ L(\\mu, \\sigma|x_1, ..., x_n)\\right] &= \\ln\\left( \\frac{e^{-(x_1 - \\mu)^{2}/(2\\sigma^{2}) }} {\\sigma\\sqrt{2\\pi}} \\right) + \\ln\\left( \\frac{e^{-(x_2 - \\mu)^{2}/(2\\sigma^{2}) }} {\\sigma\\sqrt{2\\pi}} \\right) + ... \\\\\n",
    " &\\quad + \\ln\\left( \\frac{e^{-(x_n - \\mu)^{2}/(2\\sigma^{2}) }} {\\sigma\\sqrt{2\\pi}} \\right) \\\\\n",
    "&= \\left[ -\\frac{1}{2}\\ln(2\\pi) - \\ln(\\sigma) - \\frac{(x_1 - \\mu)^2}{2\\sigma^2} \\right] \\\\ \n",
    "&\\quad + \\left[ -\\frac{1}{2}\\ln(2\\pi) - \\ln(\\sigma) - \\frac{(x_2- \\mu)^2}{2\\sigma^2} \\right] \\\\ \n",
    "&\\quad + ... + \\left[ -\\frac{1}{2}\\ln(2\\pi) - \\ln(\\sigma) - \\frac{(x_n - \\mu)^2}{2\\sigma^2} \\right] \\\\\n",
    "\\end{align*} \n",
    "$$\n",
    "$$\n",
    "\\begin{align*}\n",
    "&= -\\frac{n}{2}\\ln(2\\pi) - n\\ln(\\sigma) - \\frac{(x_1-\\mu)^2}{2\\sigma^2} - \\frac{(x_2-\\mu)^2}{2\\sigma^2} - ... - \\frac{(x_n-\\mu)^2}{2\\sigma^2}\n",
    "\\end{align*}\n",
    "$$ (eq_mle_simplified)"
   ]
  },
  {
   "cell_type": "markdown",
   "metadata": {},
   "source": [
    "## Values of parameters\n",
    "\n",
    "Now, we will use Equation {eq}`eq_mle_simplified` to find the values of $\\mu$ and $\\sigma$. For this purpose, we take the partial derivative of Equation {eq}`eq_mle_simplified` with respect to $\\mu$ and $\\sigma$.\n",
    "\n",
    "$$\n",
    "\\begin{align*}\n",
    "\\frac{\\partial}{\\partial \\mu}\\ln\\left[L(\\mu, \\sigma|x_1, x_2, ..., x_n) \\right] &= 0 - 0 + \\frac{x_1 - \\mu}{\\sigma^2} + \\frac{x_2 - \\mu}{\\sigma^2} + ... + \\frac{x_n - \\mu}{\\sigma^2} \\\\\n",
    "\\end{align*} \n",
    "$$\n",
    "$$\n",
    "\\begin{align*}\n",
    "\\frac{\\partial}{\\partial \\mu}\\ln\\left[L(\\mu, \\sigma|x_1, x_2, ..., x_n) \\right] &= \\frac{1}{\\sigma^2}\\left[ (x_1 + x_2 + ... + x_n) - n\\mu \\right]\n",
    "\\end{align*} \n",
    "$$ (eq_mu)\n",
    "\n",
    "$$\n",
    "\\begin{align*}\n",
    "\\frac{\\partial}{\\partial \\sigma}\\ln\\left[L(\\mu, \\sigma|x_1, x_2, ..., x_n) \\right] &= 0 - \\frac{n}{\\sigma} + \\frac{(x_1 - \\mu)^2}{\\sigma^3} + \\frac{(x_2 - \\mu)^2}{\\sigma^3} + ... + \\frac{(x_n - \\mu)^2}{\\sigma^3} \\\\ \n",
    "\\end{align*} \n",
    "$$\n",
    "$$\n",
    "\\begin{align*}\n",
    "\\frac{\\partial}{\\partial \\sigma}\\ln\\left[L(\\mu, \\sigma|x_1, x_2, ..., x_n) \\right] &= -\\frac{n}{\\sigma} + \\frac{1}{\\sigma^3}\\left[ (x_1 - \\mu)^2 + (x_2 - \\mu)^2 + ...+ (x_n - \\mu)^2 \\right]\n",
    "\\end{align*}\n",
    "$$ (eq_sigma)\n",
    "\n",
    "Now, to find the maximum likelihood estimate for $\\mu$ and $\\sigma$, we need to solve for the derivative with respect to $\\mu = 0$ and $\\sigma = 0$, because the slope is 0 at the peak of the curve.\n",
    "\n",
    "Thus, using Equation {eq}`eq_mu` and setting $\\frac{\\partial}{\\partial \\mu}\\ln\\left[L(\\mu, \\sigma|x_1, x_2, ..., x_n) \\right] = 0$, we get,\n",
    "\n",
    "$$\n",
    "\\begin{align*}\n",
    "0 &= \\frac{1}{\\sigma^2}\\left[ (x_1 + x_2 + ... + x_n) - n\\mu \\right] \\\\\n",
    "0 &= (x_1+x_2 + ... + x_n) - n\\mu \\\\\n",
    "\\end{align*} \n",
    "$$\n",
    "$$\n",
    "\\begin{align*}\n",
    "\\mu &= \\frac{(x_1+x_2+...+x_n)}{n}\n",
    "\\end{align*} \n",
    "$$ (eq_mu_final)\n",
    "\n",
    "Thus, the maximum likelihood estimate for $\\mu$ is the mean of the samples.\n",
    "\n",
    "Simialrly, using Equation {eq}`eq_sigma` and setting $\\frac{\\partial}{\\partial \\sigma}\\ln\\left[L(\\mu, \\sigma|x_1, x_2, ..., x_n) \\right] = 0$, we get,\n",
    "\n",
    "$$\n",
    "\\begin{align*}\n",
    "0 &= -\\frac{n}{\\sigma} + \\frac{1}{\\sigma^3}\\left[ (x_1 - \\mu)^2 + (x_2 - \\mu)^2 + ...+ (x_n - \\mu)^2 \\right] \\\\\n",
    "0 &= -n + \\frac{1}{\\sigma^2}\\left[ (x_1-\\mu)^2 + (x_2-\\mu)^2 + ...+ (x_n-\\mu)^2 \\right] \\\\\n",
    "n\\sigma^2 &= (x_1-\\mu)^2 + (x_2-\\mu)^2 + ...+ (x_n-\\mu)^2 \\\\ \n",
    "\\end{align*} \n",
    "$$\n",
    "$$\n",
    "\\begin{align*}\n",
    "\\sigma &= \\sqrt{\\frac{(x_1-\\mu)^2 + (x_2-\\mu)^2 + ...+ (x_n-\\mu)^2}{n}} \\\\\n",
    "\\end{align*} \n",
    "$$ (eq_sigma_final)\n",
    "\n",
    "Thus, the maximum likelihood estimate for $\\sigma$ is the standard deviation of the samples."
   ]
  },
  {
   "cell_type": "markdown",
   "metadata": {},
   "source": [
    "## An Example \n",
    "\n",
    "Let us now consider 5 samples with values 0, -5,  6, -9 and 8. We want to know the normal distribution from which all of these samples were most likely to be drawn. In other words, we would like to maximize the value of $f(0, -5,  6, -9, 8)$ as given in Equation {eq}`eq_normal_dist`. Since we do not know the values of $\\mu$ and $\\sigma$ for the required distribution, we need to estimate them using  Equations {eq}`eq_mu_final` and {eq}`eq_sigma_final` respectively.\n",
    "\n",
    "Using the formulae of $\\mu$ and $\\sigma$, we get,"
   ]
  },
  {
   "cell_type": "code",
   "execution_count": null,
   "metadata": {},
   "outputs": [],
   "source": [
    "samples = np.array([0, -5, 6, -9, 8])\n",
    "mu = np.mean(samples)\n",
    "sigma = np.std(samples)\n",
    "print(f'mu = {mu:.2f} and sigma = {sigma:.2f}')"
   ]
  },
  {
   "cell_type": "markdown",
   "metadata": {},
   "source": [
    "Let us plot the normal distribution with these values and also mark the given points."
   ]
  },
  {
   "cell_type": "code",
   "execution_count": null,
   "metadata": {
    "tags": [
     "hide-input"
    ]
   },
   "outputs": [],
   "source": [
    "x_range = np.linspace(-20, 20, 200)\n",
    "\n",
    "plot_normal(x_range, mu, sigma)\n",
    "plt.axhline(y=0)\n",
    "plt.vlines(samples, ymin=0, ymax=norm.pdf(samples, mu, sigma), linestyle=':')\n",
    "\n",
    "plt.plot(samples, [0]*samples.shape[0], 'o', zorder=10, clip_on=False);"
   ]
  },
  {
   "cell_type": "markdown",
   "metadata": {},
   "source": [
    "Thus, this is the most likely normal distribution from which the five sample points were drawn out."
   ]
  },
  {
   "cell_type": "markdown",
   "metadata": {},
   "source": [
    "## References\n",
    "\n",
    "1. [What is Maximum Likelihood Estimation — Examples in Python | Medium.com](https://medium.com/@rrfd/what-is-maximum-likelihood-estimation-examples-in-python-791153818030)\n",
    "\n",
    "1. [Maximum Likelihood Estimation: How it Works and Implementing in Python | towardsdatascience.com](https://towardsdatascience.com/maximum-likelihood-estimation-how-it-works-and-implementing-in-python-b0eb2efb360f)\n",
    "\n",
    "1. [Maximum Likelihood For the Normal Distribution, step-by-step! | YouTube](https://youtu.be/Dn6b9fCIUpM)"
   ]
  }
 ],
 "metadata": {
  "celltoolbar": "Tags",
  "kernelspec": {
   "display_name": "Python 3",
   "language": "python",
   "name": "python3"
  },
  "language_info": {
   "codemirror_mode": {
    "name": "ipython",
    "version": 3
   },
   "file_extension": ".py",
   "mimetype": "text/x-python",
   "name": "python",
   "nbconvert_exporter": "python",
   "pygments_lexer": "ipython3",
   "version": "3.8.5"
  }
 },
 "nbformat": 4,
 "nbformat_minor": 4
}
