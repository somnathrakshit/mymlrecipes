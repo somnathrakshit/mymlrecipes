{
 "cells": [
  {
   "cell_type": "markdown",
   "id": "5bfb7d7e",
   "metadata": {},
   "source": [
    "## Basics "
   ]
  },
  {
   "cell_type": "markdown",
   "id": "2e1c4362",
   "metadata": {},
   "source": [
    "### Let's Start"
   ]
  },
  {
   "cell_type": "markdown",
   "id": "434535c9",
   "metadata": {},
   "source": [
    "- The main difference between tensors and NumPy arrays is that tensors can be used on GPUs (graphical processing units) and TPUs (tensor processing units).\n",
    "- The number of dimensions of a tensor is called its rank. A scalar has rank $0$, a vector has rank $1$, a matrix is rank $2$, a tensor has rank $n$.\n",
    "- There are $2$ ways of creating tensors. `tf.Variable()` and `tf.constant()` the difference being tensors created with `tf.constant()` are immutable, tensors created with `tf.Variable()` are mutable. `any_tensor[2].assign(7)` can be used to change a value of a specific element in the tensor, same would fail for `tf.constant()`.\n",
    "- There are other ways of creating tensors examples being `tf.zeros` or `tf.ones`. You can also convert numpy arrays into tensors.\n",
    "- Tensors can also be indexed just like Python lists.\n",
    "- You can an extra dimension by using `tf.newaxis` or `tf.expand_dims`\n",
    "- `tf.reshape()`,`tf.transpose()` allows us to reshape a tensor"
   ]
  },
  {
   "cell_type": "code",
   "execution_count": 16,
   "id": "d12c3a2e",
   "metadata": {},
   "outputs": [
    {
     "name": "stdout",
     "output_type": "stream",
     "text": [
      "Check TF version:  2.3.1\n",
      "Access a specific feature of the tensor, in this case shape of t1:  (3, 2)\n",
      "Size of t1:  tf.Tensor(6, shape=(), dtype=int32)\n",
      "Datatype of every element: <dtype: 'float16'>\n",
      "Number of dimensions (rank): 2\n",
      "Shape of tensor: (3, 2)\n",
      "Elements along axis 0 of tensor: 3\n",
      "Elements along last axis of tensor: 2\n",
      "Total number of elements: 6\n",
      "Details of the tensor:  tf.Tensor(\n",
      "[[10.  7.]\n",
      " [ 3.  2.]\n",
      " [ 8.  9.]], shape=(3, 2), dtype=float16)\n",
      "Index tensors:  tf.Tensor([[10.  7.]], shape=(1, 2), dtype=float16)\n"
     ]
    }
   ],
   "source": [
    "# Some common commands are as follows\n",
    "import tensorflow as tf\n",
    "print(\"Check TF version: \",tf.__version__)\n",
    "\n",
    "t1 = tf.constant([[10., 7.],\n",
    "                [3., 2.],\n",
    "                [8., 9.]], dtype=tf.float16) # by default TF creates tensors with either an int32 or float32 datatype.\n",
    "\n",
    "print(\"Access a specific feature of the tensor, in this case shape of t1: \",t1.shape)\n",
    "print(\"Size of t1: \", tf.size(t1))\n",
    "print(\"Datatype of every element:\", t1.dtype)\n",
    "print(\"Number of dimensions (rank):\", t1.ndim)\n",
    "print(\"Shape of tensor:\", t1.shape)\n",
    "print(\"Elements along axis 0 of tensor:\", t1.shape[0])\n",
    "print(\"Elements along last axis of tensor:\", t1.shape[-1])\n",
    "print(\"Total number of elements:\", tf.size(t1).numpy()) # .numpy() converts to NumPy array\n",
    "print(\"Details of the tensor: \",t1)\n",
    "\n",
    "print(\"Index tensors: \", t1[:1,:])"
   ]
  },
  {
   "cell_type": "code",
   "execution_count": 21,
   "id": "7fb29735",
   "metadata": {},
   "outputs": [
    {
     "name": "stdout",
     "output_type": "stream",
     "text": [
      "Sum:  tf.Tensor(\n",
      "[[20. 17.]\n",
      " [13. 12.]\n",
      " [18. 19.]], shape=(3, 2), dtype=float16)\n",
      "Substraction:  tf.Tensor(\n",
      "[[ 0. -3.]\n",
      " [-7. -8.]\n",
      " [-2. -1.]], shape=(3, 2), dtype=float16)\n",
      "Multiplication:  tf.Tensor(\n",
      "[[100.  70.]\n",
      " [ 30.  20.]\n",
      " [ 80.  90.]], shape=(3, 2), dtype=float16) tf.Tensor(\n",
      "[[100.  70.]\n",
      " [ 30.  20.]\n",
      " [ 80.  90.]], shape=(3, 2), dtype=float16)\n",
      "Matrix Multiplication:  tf.Tensor(\n",
      "[[149.  44. 143.]\n",
      " [ 44.  13.  42.]\n",
      " [143.  42. 145.]], shape=(3, 3), dtype=float16)\n"
     ]
    }
   ],
   "source": [
    "import tensorflow as tf\n",
    "\n",
    "# Math operations\n",
    "\n",
    "t1 = tf.constant([[10., 7.],\n",
    "                [3., 2.],\n",
    "                [8., 9.]], dtype=tf.float16) # by default TF creates tensors with either an int32 or float32 datatype.\n",
    "\n",
    "print(\"Sum: \",t1+10)\n",
    "print(\"Substraction: \",t1-10)\n",
    "print(\"Multiplication: \",t1*10, tf.multiply(t1, 10))\n",
    "print(\"Matrix Multiplication: \",t1 @ tf.transpose(t1))\n"
   ]
  },
  {
   "cell_type": "markdown",
   "id": "ec6fa390",
   "metadata": {},
   "source": [
    "### Random"
   ]
  },
  {
   "cell_type": "markdown",
   "id": "f5ec2e99",
   "metadata": {},
   "source": [
    "Randomness is often used in deep learning, be it initializing weights in a Neural Network or shuffling images while feeding data to the model. "
   ]
  },
  {
   "cell_type": "code",
   "execution_count": 5,
   "id": "83749bfb",
   "metadata": {},
   "outputs": [
    {
     "name": "stdout",
     "output_type": "stream",
     "text": [
      "Generating tensor from a normal distribution:  tf.Tensor(\n",
      "[[ 0.495291   -0.648484  ]\n",
      " [-1.8700892   2.7830641 ]\n",
      " [-0.645002    0.18022095]], shape=(3, 2), dtype=float32)\n",
      "Shuffling the elements of the tesnor:  tf.Tensor(\n",
      "[[-0.645002    0.18022095]\n",
      " [ 0.495291   -0.648484  ]\n",
      " [-1.8700892   2.7830641 ]], shape=(3, 2), dtype=float32)\n"
     ]
    }
   ],
   "source": [
    "random_1 = tf.random.Generator.from_seed(35) # setting seed ensures reproducibility\n",
    "random_1 = random_1.normal(shape = (3,2))\n",
    "print(\"Generating tensor from a normal distribution: \", random_1)\n",
    "print(\"Shuffling the elements of the tesnor: \", tf.random.shuffle(random_1))"
   ]
  },
  {
   "cell_type": "markdown",
   "id": "424188c7",
   "metadata": {},
   "source": []
  },
  {
   "cell_type": "code",
   "execution_count": null,
   "id": "ba06a2c8",
   "metadata": {},
   "outputs": [],
   "source": []
  }
 ],
 "metadata": {
  "kernelspec": {
   "display_name": "Python 3",
   "language": "python",
   "name": "python3"
  },
  "language_info": {
   "codemirror_mode": {
    "name": "ipython",
    "version": 3
   },
   "file_extension": ".py",
   "mimetype": "text/x-python",
   "name": "python",
   "nbconvert_exporter": "python",
   "pygments_lexer": "ipython3",
   "version": "3.7.4"
  }
 },
 "nbformat": 4,
 "nbformat_minor": 5
}
