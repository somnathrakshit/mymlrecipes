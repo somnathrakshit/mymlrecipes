{
 "cells": [
  {
   "cell_type": "markdown",
   "metadata": {},
   "source": [
    "# Maximum Likelihood Estimate\n",
    "\n",
    "Suppose we are given a problem where we can assume the _parametric class_ of distribution (e.g. Normal Distribution) that generates a set of data. Since this class of distribution has a finite number of parameters that need to be figured out (mean $\\mu$ and standard deviation $\\sigma$ in case of normal distribution) in order to identify the particular member of the class, we will use the given data to do so.\n",
    "\n",
    "The obtained parameter estimates will be called **Maximum Likelihood Estimates**.\n",
    "\n",
    "Let us consider a Ransom Variable $X$ to be normally distributed with some mena $\\mu$ and standard deviation $\\sigma$. We need to estimate $\\mu$ and $\\sigma$ using our samples which accurately represent the actual $X$ and not just the samples that we have drawn out."
   ]
  },
  {
   "cell_type": "markdown",
   "metadata": {},
   "source": [
    "## Estimating Parameters\n",
    "\n",
    "Let's have a look at the Probability Density Function (PDF) for the Normal Distribution and see what they mean.\n",
    "\n",
    "$$\n",
    "\\begin{equation}\n",
    "p(x; \\mu, \\sigma) = \\frac{e^{-(x - \\mu)^{2}/(2\\sigma^{2}) }} {\\sigma\\sqrt{2\\pi}}\n",
    "\\end{equation}\n",
    "$$ (eq_normal_dist)\n",
    "\n",
    "This equation is used to obtain the probability of our sample $x$ being from our random variable $X$, when the true parameters of the distribution are $\\mu$ and $\\sigma$.\n",
    "\n",
    "Let us consider that our sample = 5. Then what is the probability that it comes from a normal distribution with $\\mu = 4$ and $\\sigma = 1$? To get this probability, we only need to plug in the values of $x, \\mu$ and $\\sigma$ in Equation {eq}`eq_normal_dist`. Scipy as a handy function [`norm.pdf()`](https://docs.scipy.org/doc/scipy/reference/generated/scipy.stats.norm.html) that we can use to obtain this as well."
   ]
  },
  {
   "cell_type": "markdown",
   "metadata": {},
   "source": [
    "## References\n",
    "\n",
    "https://medium.com/@rrfd/what-is-maximum-likelihood-estimation-examples-in-python-791153818030"
   ]
  },
  {
   "cell_type": "code",
   "execution_count": null,
   "metadata": {},
   "outputs": [],
   "source": []
  }
 ],
 "metadata": {
  "kernelspec": {
   "display_name": "Python 3",
   "language": "python",
   "name": "python3"
  },
  "language_info": {
   "codemirror_mode": {
    "name": "ipython",
    "version": 3
   },
   "file_extension": ".py",
   "mimetype": "text/x-python",
   "name": "python",
   "nbconvert_exporter": "python",
   "pygments_lexer": "ipython3",
   "version": "3.8.5"
  }
 },
 "nbformat": 4,
 "nbformat_minor": 4
}
